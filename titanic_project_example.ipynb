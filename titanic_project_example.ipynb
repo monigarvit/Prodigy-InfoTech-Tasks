{
  "metadata": {
    "kernelspec": {
      "language": "python",
      "display_name": "Python 3",
      "name": "python3"
    },
    "language_info": {
      "name": "python",
      "version": "3.7.6",
      "mimetype": "text/x-python",
      "codemirror_mode": {
        "name": "ipython",
        "version": 3
      },
      "pygments_lexer": "ipython3",
      "nbconvert_exporter": "python",
      "file_extension": ".py"
    },
    "colab": {
      "provenance": [],
      "include_colab_link": true
    }
  },
  "nbformat_minor": 0,
  "nbformat": 4,
  "cells": [
    {
      "cell_type": "markdown",
      "metadata": {
        "id": "view-in-github",
        "colab_type": "text"
      },
      "source": [
        "<a href=\"https://colab.research.google.com/github/monigarvit/Prodigy-InfoTech-Tasks/blob/main/titanic_project_example.ipynb\" target=\"_parent\"><img src=\"https://colab.research.google.com/assets/colab-badge.svg\" alt=\"Open In Colab\"/></a>"
      ]
    },
    {
      "cell_type": "markdown",
      "source": [
        "# Titanic Project Example Walk Through\n",
        "In this notebook, I hope to show how a data scientist would go about working through a problem. The goal is to correctly predict if someone survived the Titanic shipwreck. I thought it would be fun to see how well I could do in this competition without deep learning.\n",
        "\n",
        "*The accompanying video is located here:* https://www.youtube.com/watch?v=I3FBJdiExcg\n",
        "\n",
        "**Best results : 79.425 % accuracy (Top 12%)**\n",
        "\n",
        "## Overview\n",
        "### 1) Understand the shape of the data (Histograms, box plots, etc.)\n",
        "\n",
        "### 2) Data Cleaning\n",
        "\n",
        "### 3) Data Exploration\n",
        "\n",
        "### 4) Feature Engineering\n",
        "\n",
        "### 5) Data Preprocessing for Model\n",
        "\n",
        "### 6) Basic Model Building\n",
        "\n",
        "### 7) Model Tuning\n",
        "\n",
        "### 8) Ensemble Modle Building\n",
        "\n",
        "### 9) Results\n"
      ],
      "metadata": {
        "id": "s-XMxKHUj0cV"
      }
    },
    {
      "cell_type": "markdown",
      "source": [
        "I recently did something similar with the **Housing Prices Dataset for Regression** if you want something slighty more advanced. I show how I would integrate ChatGPT with my Data Science work:\n",
        "\n",
        "- Kaggle notebook: https://www.kaggle.com/code/kenjee/housing-prices-example-with-video-walkthrough\n",
        "- YouTube Video: https://www.youtube.com/watch?v=NQQ3DRdXAXE&t=2s&ab_channel=KenJee\n",
        "\n",
        "My github repos with additional free and paid resources:\n",
        "- ML Process: https://github.com/PlayingNumbers/ML_Process_Course\n",
        "- ML ALgorithms: https://github.com/PlayingNumbers/ML_Algorithms_Course"
      ],
      "metadata": {
        "id": "p32UHzsIj0cW"
      }
    },
    {
      "cell_type": "code",
      "source": [
        "# This Python 3 environment comes with many helpful analytics libraries installed\n",
        "# It is defined by the kaggle/python Docker image: https://github.com/kaggle/docker-python\n",
        "# For example, here's several helpful packages to load\n",
        "\n",
        "import numpy as np # linear algebra\n",
        "import pandas as pd # data processing, CSV file I/O (e.g. pd.read_csv)\n",
        "import seaborn as sns\n",
        "import matplotlib.pyplot as plt\n",
        "# Input data files are available in the read-only \"../input/\" directory\n",
        "# For example, running this (by clicking run or pressing Shift+Enter) will list all files under the input directory\n",
        "\n",
        "import os\n",
        "for dirname, _, filenames in os.walk('/kaggle/input'):\n",
        "    for filename in filenames:\n",
        "        print(os.path.join(dirname, filename))\n",
        "\n",
        "\n",
        "# You can write up to 5GB to the current directory (/kaggle/working/) that gets preserved as output when you create a version using \"Save & Run All\"\n",
        "# You can also write temporary files to /kaggle/temp/, but they won't be saved outside of the current session"
      ],
      "metadata": {
        "_uuid": "8f2839f25d086af736a60e9eeb907d3b93b6e0e5",
        "_cell_guid": "b1076dfc-b9ad-4769-8c92-a6c4dae69d19",
        "execution": {
          "iopub.status.busy": "2023-09-02T04:25:53.905648Z",
          "iopub.execute_input": "2023-09-02T04:25:53.906709Z",
          "iopub.status.idle": "2023-09-02T04:25:54.780327Z",
          "shell.execute_reply.started": "2023-09-02T04:25:53.906620Z",
          "shell.execute_reply": "2023-09-02T04:25:54.779293Z"
        },
        "trusted": true,
        "id": "Hl4PORTuj0cX",
        "outputId": "e4b143fa-3857-46a8-c56e-c571f5e8d1f8"
      },
      "execution_count": null,
      "outputs": [
        {
          "name": "stdout",
          "text": "/kaggle/input/titanic/train.csv\n/kaggle/input/titanic/test.csv\n/kaggle/input/titanic/gender_submission.csv\n",
          "output_type": "stream"
        }
      ]
    },
    {
      "cell_type": "markdown",
      "source": [
        "Here we import the data. For this analysis, we will be exclusively working with the Training set. We will be validating based on data from the training set as well. For our final submissions, we will make predictions based on the test set."
      ],
      "metadata": {
        "id": "OYGilXgMj0cY"
      }
    },
    {
      "cell_type": "code",
      "source": [
        "training = pd.read_csv('/kaggle/input/titanic/train.csv')\n",
        "test = pd.read_csv('/kaggle/input/titanic/test.csv')\n",
        "\n",
        "training['train_test'] = 1\n",
        "test['train_test'] = 0\n",
        "test['Survived'] = np.NaN\n",
        "all_data = pd.concat([training,test])\n",
        "\n",
        "%matplotlib inline\n",
        "all_data.columns"
      ],
      "metadata": {
        "execution": {
          "iopub.status.busy": "2023-09-02T04:25:57.521950Z",
          "iopub.execute_input": "2023-09-02T04:25:57.522358Z",
          "iopub.status.idle": "2023-09-02T04:25:57.724792Z",
          "shell.execute_reply.started": "2023-09-02T04:25:57.522323Z",
          "shell.execute_reply": "2023-09-02T04:25:57.723729Z"
        },
        "trusted": true,
        "id": "yj-4rnNlj0cY",
        "outputId": "e5cccab9-a24e-486a-c6e9-22533ca94cec"
      },
      "execution_count": null,
      "outputs": [
        {
          "execution_count": 3,
          "output_type": "execute_result",
          "data": {
            "text/plain": "Index(['PassengerId', 'Survived', 'Pclass', 'Name', 'Sex', 'Age', 'SibSp',\n       'Parch', 'Ticket', 'Fare', 'Cabin', 'Embarked', 'train_test'],\n      dtype='object')"
          },
          "metadata": {}
        }
      ]
    },
    {
      "cell_type": "code",
      "source": [
        "training.info()"
      ],
      "metadata": {
        "execution": {
          "iopub.status.busy": "2023-09-02T04:26:00.396389Z",
          "iopub.execute_input": "2023-09-02T04:26:00.396779Z",
          "iopub.status.idle": "2023-09-02T04:26:00.420402Z",
          "shell.execute_reply.started": "2023-09-02T04:26:00.396746Z",
          "shell.execute_reply": "2023-09-02T04:26:00.419198Z"
        },
        "trusted": true,
        "id": "ZwARxufRj0cY",
        "outputId": "5e40d88d-7865-4be5-8494-fa2bbbcbcec3"
      },
      "execution_count": null,
      "outputs": [
        {
          "name": "stdout",
          "text": "<class 'pandas.core.frame.DataFrame'>\nRangeIndex: 891 entries, 0 to 890\nData columns (total 13 columns):\n #   Column       Non-Null Count  Dtype  \n---  ------       --------------  -----  \n 0   PassengerId  891 non-null    int64  \n 1   Survived     891 non-null    int64  \n 2   Pclass       891 non-null    int64  \n 3   Name         891 non-null    object \n 4   Sex          891 non-null    object \n 5   Age          714 non-null    float64\n 6   SibSp        891 non-null    int64  \n 7   Parch        891 non-null    int64  \n 8   Ticket       891 non-null    object \n 9   Fare         891 non-null    float64\n 10  Cabin        204 non-null    object \n 11  Embarked     889 non-null    object \n 12  train_test   891 non-null    int64  \ndtypes: float64(2), int64(6), object(5)\nmemory usage: 90.6+ KB\n",
          "output_type": "stream"
        }
      ]
    },
    {
      "cell_type": "code",
      "source": [
        "training.describe()"
      ],
      "metadata": {
        "execution": {
          "iopub.status.busy": "2023-09-02T04:26:01.276365Z",
          "iopub.execute_input": "2023-09-02T04:26:01.277003Z",
          "iopub.status.idle": "2023-09-02T04:26:01.340699Z",
          "shell.execute_reply.started": "2023-09-02T04:26:01.276963Z",
          "shell.execute_reply": "2023-09-02T04:26:01.339777Z"
        },
        "trusted": true,
        "id": "LioYm6hqj0cY",
        "outputId": "9edb0e42-1155-4597-cc17-224782c974d6"
      },
      "execution_count": null,
      "outputs": [
        {
          "execution_count": 6,
          "output_type": "execute_result",
          "data": {
            "text/plain": "       PassengerId    Survived      Pclass         Age       SibSp  \\\ncount   891.000000  891.000000  891.000000  714.000000  891.000000   \nmean    446.000000    0.383838    2.308642   29.699118    0.523008   \nstd     257.353842    0.486592    0.836071   14.526497    1.102743   \nmin       1.000000    0.000000    1.000000    0.420000    0.000000   \n25%     223.500000    0.000000    2.000000   20.125000    0.000000   \n50%     446.000000    0.000000    3.000000   28.000000    0.000000   \n75%     668.500000    1.000000    3.000000   38.000000    1.000000   \nmax     891.000000    1.000000    3.000000   80.000000    8.000000   \n\n            Parch        Fare  train_test  \ncount  891.000000  891.000000       891.0  \nmean     0.381594   32.204208         1.0  \nstd      0.806057   49.693429         0.0  \nmin      0.000000    0.000000         1.0  \n25%      0.000000    7.910400         1.0  \n50%      0.000000   14.454200         1.0  \n75%      0.000000   31.000000         1.0  \nmax      6.000000  512.329200         1.0  ",
            "text/html": "<div>\n<style scoped>\n    .dataframe tbody tr th:only-of-type {\n        vertical-align: middle;\n    }\n\n    .dataframe tbody tr th {\n        vertical-align: top;\n    }\n\n    .dataframe thead th {\n        text-align: right;\n    }\n</style>\n<table border=\"1\" class=\"dataframe\">\n  <thead>\n    <tr style=\"text-align: right;\">\n      <th></th>\n      <th>PassengerId</th>\n      <th>Survived</th>\n      <th>Pclass</th>\n      <th>Age</th>\n      <th>SibSp</th>\n      <th>Parch</th>\n      <th>Fare</th>\n      <th>train_test</th>\n    </tr>\n  </thead>\n  <tbody>\n    <tr>\n      <th>count</th>\n      <td>891.000000</td>\n      <td>891.000000</td>\n      <td>891.000000</td>\n      <td>714.000000</td>\n      <td>891.000000</td>\n      <td>891.000000</td>\n      <td>891.000000</td>\n      <td>891.0</td>\n    </tr>\n    <tr>\n      <th>mean</th>\n      <td>446.000000</td>\n      <td>0.383838</td>\n      <td>2.308642</td>\n      <td>29.699118</td>\n      <td>0.523008</td>\n      <td>0.381594</td>\n      <td>32.204208</td>\n      <td>1.0</td>\n    </tr>\n    <tr>\n      <th>std</th>\n      <td>257.353842</td>\n      <td>0.486592</td>\n      <td>0.836071</td>\n      <td>14.526497</td>\n      <td>1.102743</td>\n      <td>0.806057</td>\n      <td>49.693429</td>\n      <td>0.0</td>\n    </tr>\n    <tr>\n      <th>min</th>\n      <td>1.000000</td>\n      <td>0.000000</td>\n      <td>1.000000</td>\n      <td>0.420000</td>\n      <td>0.000000</td>\n      <td>0.000000</td>\n      <td>0.000000</td>\n      <td>1.0</td>\n    </tr>\n    <tr>\n      <th>25%</th>\n      <td>223.500000</td>\n      <td>0.000000</td>\n      <td>2.000000</td>\n      <td>20.125000</td>\n      <td>0.000000</td>\n      <td>0.000000</td>\n      <td>7.910400</td>\n      <td>1.0</td>\n    </tr>\n    <tr>\n      <th>50%</th>\n      <td>446.000000</td>\n      <td>0.000000</td>\n      <td>3.000000</td>\n      <td>28.000000</td>\n      <td>0.000000</td>\n      <td>0.000000</td>\n      <td>14.454200</td>\n      <td>1.0</td>\n    </tr>\n    <tr>\n      <th>75%</th>\n      <td>668.500000</td>\n      <td>1.000000</td>\n      <td>3.000000</td>\n      <td>38.000000</td>\n      <td>1.000000</td>\n      <td>0.000000</td>\n      <td>31.000000</td>\n      <td>1.0</td>\n    </tr>\n    <tr>\n      <th>max</th>\n      <td>891.000000</td>\n      <td>1.000000</td>\n      <td>3.000000</td>\n      <td>80.000000</td>\n      <td>8.000000</td>\n      <td>6.000000</td>\n      <td>512.329200</td>\n      <td>1.0</td>\n    </tr>\n  </tbody>\n</table>\n</div>"
          },
          "metadata": {}
        }
      ]
    },
    {
      "cell_type": "code",
      "source": [
        "training.describe().columns"
      ],
      "metadata": {
        "execution": {
          "iopub.status.busy": "2023-09-02T04:26:02.077636Z",
          "iopub.execute_input": "2023-09-02T04:26:02.078114Z",
          "iopub.status.idle": "2023-09-02T04:26:02.126944Z",
          "shell.execute_reply.started": "2023-09-02T04:26:02.078076Z",
          "shell.execute_reply": "2023-09-02T04:26:02.124711Z"
        },
        "trusted": true,
        "id": "hmKU239pj0cY",
        "outputId": "a81ce09a-b346-4fde-d8c3-15821e516a29"
      },
      "execution_count": null,
      "outputs": [
        {
          "execution_count": 7,
          "output_type": "execute_result",
          "data": {
            "text/plain": "Index(['PassengerId', 'Survived', 'Pclass', 'Age', 'SibSp', 'Parch', 'Fare',\n       'train_test'],\n      dtype='object')"
          },
          "metadata": {}
        }
      ]
    },
    {
      "cell_type": "code",
      "source": [
        "df_num = training[['Age','SibSp','Parch','Fare']]\n",
        "df_cat = training[['Survived','Pclass','Sex','Ticket','Cabin','Embarked']]"
      ],
      "metadata": {
        "execution": {
          "iopub.status.busy": "2023-09-02T04:26:05.777303Z",
          "iopub.execute_input": "2023-09-02T04:26:05.777686Z",
          "iopub.status.idle": "2023-09-02T04:26:05.785503Z",
          "shell.execute_reply.started": "2023-09-02T04:26:05.777653Z",
          "shell.execute_reply": "2023-09-02T04:26:05.784627Z"
        },
        "trusted": true,
        "id": "Y_o5vYBGj0cZ"
      },
      "execution_count": null,
      "outputs": []
    },
    {
      "cell_type": "code",
      "source": [
        "for i in df_num.columns:\n",
        "    plt.hist(df_num[i])\n",
        "    plt.title(i)\n",
        "    plt.show()"
      ],
      "metadata": {
        "execution": {
          "iopub.status.busy": "2023-09-02T04:26:11.501519Z",
          "iopub.execute_input": "2023-09-02T04:26:11.502162Z",
          "iopub.status.idle": "2023-09-02T04:26:12.338782Z",
          "shell.execute_reply.started": "2023-09-02T04:26:11.502097Z",
          "shell.execute_reply": "2023-09-02T04:26:12.337485Z"
        },
        "trusted": true,
        "id": "7JM_qTxtj0cZ",
        "outputId": "c7599fa5-262e-4aa7-9d93-c8cca8dbbc5d"
      },
      "execution_count": null,
      "outputs": [
        {
          "name": "stderr",
          "text": "/opt/conda/lib/python3.7/site-packages/numpy/lib/histograms.py:839: RuntimeWarning: invalid value encountered in greater_equal\n  keep = (tmp_a >= first_edge)\n/opt/conda/lib/python3.7/site-packages/numpy/lib/histograms.py:840: RuntimeWarning: invalid value encountered in less_equal\n  keep &= (tmp_a <= last_edge)\n",
          "output_type": "stream"
        },
        {
          "output_type": "display_data",
          "data": {
            "text/plain": "<Figure size 432x288 with 1 Axes>",
            "image/png": "[encoded data removed]"
          },
          "metadata": {
            "needs_background": "light"
          }
        },
        {
          "output_type": "display_data",
          "data": {
            "text/plain": "<Figure size 432x288 with 1 Axes>",
            "image/png": "[encoded data removed]"
          },
          "metadata": {
            "needs_background": "light"
          }
        },
        {
          "output_type": "display_data",
          "data": {
            "text/plain": "<Figure size 432x288 with 1 Axes>",
            "image/png": "[encoded data removed]"
          },
          "metadata": {
            "needs_background": "light"
          }
        },
        {
          "output_type": "display_data",
          "data": {
            "text/plain": "<Figure size 432x288 with 1 Axes>",
            "image/png": "[encoded data removed]"
          },
          "metadata": {
            "needs_background": "light"
          }
        }
      ]
    },
    {
      "cell_type": "markdown",
      "source": [
        "Perhaps we should take the non-normal distributions and consider normalizing them?"
      ],
      "metadata": {
        "trusted": true,
        "id": "w5zq4DKjj0cZ"
      }
    },
    {
      "cell_type": "markdown",
      "source": [
        "\n"
      ],
      "metadata": {
        "id": "2aJJ1AKDj0cZ"
      }
    },
    {
      "cell_type": "code",
      "source": [
        "print(df_num.corr())\n",
        "sns.heatmap(df_num.corr())"
      ],
      "metadata": {
        "execution": {
          "iopub.status.busy": "2023-09-02T04:26:18.891645Z",
          "iopub.execute_input": "2023-09-02T04:26:18.892505Z",
          "iopub.status.idle": "2023-09-02T04:26:19.162274Z",
          "shell.execute_reply.started": "2023-09-02T04:26:18.892454Z",
          "shell.execute_reply": "2023-09-02T04:26:19.161179Z"
        },
        "trusted": true,
        "id": "H9ELo5rIj0cZ",
        "outputId": "de45479c-e142-4851-fd9e-ec53200263c9"
      },
      "execution_count": null,
      "outputs": [
        {
          "name": "stdout",
          "text": "            Age     SibSp     Parch      Fare\nAge    1.000000 -0.308247 -0.189119  0.096067\nSibSp -0.308247  1.000000  0.414838  0.159651\nParch -0.189119  0.414838  1.000000  0.216225\nFare   0.096067  0.159651  0.216225  1.000000\n",
          "output_type": "stream"
        },
        {
          "execution_count": 11,
          "output_type": "execute_result",
          "data": {
            "text/plain": "<matplotlib.axes._subplots.AxesSubplot at 0x7f1fc0b30d10>"
          },
          "metadata": {}
        },
        {
          "output_type": "display_data",
          "data": {
            "text/plain": "<Figure size 432x288 with 2 Axes>",
            "image/png": "[encoded data removed]"
          },
          "metadata": {
            "needs_background": "light"
          }
        }
      ]
    },
    {
      "cell_type": "code",
      "source": [
        "pd.pivot_table(training, index = 'Survived', values = ['Age','SibSp','Parch','Fare'])"
      ],
      "metadata": {
        "execution": {
          "iopub.status.busy": "2023-09-02T04:26:21.887481Z",
          "iopub.execute_input": "2023-09-02T04:26:21.887951Z",
          "iopub.status.idle": "2023-09-02T04:26:21.923888Z",
          "shell.execute_reply.started": "2023-09-02T04:26:21.887905Z",
          "shell.execute_reply": "2023-09-02T04:26:21.922479Z"
        },
        "trusted": true,
        "id": "d63AKJaQj0cZ",
        "outputId": "01045fbe-12ff-4914-fd46-aad730a81523"
      },
      "execution_count": null,
      "outputs": [
        {
          "execution_count": 12,
          "output_type": "execute_result",
          "data": {
            "text/plain": "                Age       Fare     Parch     SibSp\nSurvived                                          \n0         30.626179  22.117887  0.329690  0.553734\n1         28.343690  48.395408  0.464912  0.473684",
            "text/html": "<div>\n<style scoped>\n    .dataframe tbody tr th:only-of-type {\n        vertical-align: middle;\n    }\n\n    .dataframe tbody tr th {\n        vertical-align: top;\n    }\n\n    .dataframe thead th {\n        text-align: right;\n    }\n</style>\n<table border=\"1\" class=\"dataframe\">\n  <thead>\n    <tr style=\"text-align: right;\">\n      <th></th>\n      <th>Age</th>\n      <th>Fare</th>\n      <th>Parch</th>\n      <th>SibSp</th>\n    </tr>\n    <tr>\n      <th>Survived</th>\n      <th></th>\n      <th></th>\n      <th></th>\n      <th></th>\n    </tr>\n  </thead>\n  <tbody>\n    <tr>\n      <th>0</th>\n      <td>30.626179</td>\n      <td>22.117887</td>\n      <td>0.329690</td>\n      <td>0.553734</td>\n    </tr>\n    <tr>\n      <th>1</th>\n      <td>28.343690</td>\n      <td>48.395408</td>\n      <td>0.464912</td>\n      <td>0.473684</td>\n    </tr>\n  </tbody>\n</table>\n</div>"
          },
          "metadata": {}
        }
      ]
    },
    {
      "cell_type": "code",
      "source": [
        "for i in df_cat.columns:\n",
        "    sns.barplot(df_cat[i].value_counts().index,df_cat[i].value_counts()).set_title(i)\n",
        "    plt.show()\\\n",
        ""
      ],
      "metadata": {
        "execution": {
          "iopub.status.busy": "2023-09-02T04:26:24.771755Z",
          "iopub.execute_input": "2023-09-02T04:26:24.772173Z",
          "iopub.status.idle": "2023-09-02T04:26:35.659270Z",
          "shell.execute_reply.started": "2023-09-02T04:26:24.772139Z",
          "shell.execute_reply": "2023-09-02T04:26:35.658099Z"
        },
        "trusted": true,
        "id": "l5WD4Eu2j0ca",
        "outputId": "6cc85f3f-0c9c-49bf-e041-87ff7dcafa0e"
      },
      "execution_count": null,
      "outputs": [
        {
          "output_type": "display_data",
          "data": {
            "text/plain": "<Figure size 432x288 with 1 Axes>",
            "image/png": "[encoded data removed]"
          },
          "metadata": {
            "needs_background": "light"
          }
        },
        {
          "output_type": "display_data",
          "data": {
            "text/plain": "<Figure size 432x288 with 1 Axes>",
            "image/png": "[encoded data removed]"
          },
          "metadata": {
            "needs_background": "light"
          }
        },
        {
          "output_type": "display_data",
          "data": {
            "text/plain": "<Figure size 432x288 with 1 Axes>",
            "image/png": "[encoded data removed]"
          },
          "metadata": {
            "needs_background": "light"
          }
        },
        {
          "output_type": "display_data",
          "data": {
            "text/plain": "<Figure size 432x288 with 1 Axes>",
            "image/png": "[encoded data removed]"
          },
          "metadata": {
            "needs_background": "light"
          }
        },
        {
          "output_type": "display_data",
          "data": {
            "text/plain": "<Figure size 432x288 with 1 Axes>",
            "image/png": "[encoded data removed]"
          },
          "metadata": {
            "needs_background": "light"
          }
        },
        {
          "output_type": "display_data",
          "data": {
            "text/plain": "<Figure size 432x288 with 1 Axes>",
            "image/png": "[encoded data removed]"
          },
          "metadata": {
            "needs_background": "light"
          }
        }
      ]
    },
    {
      "cell_type": "markdown",
      "source": [
        "Cabin and ticket graphs are very messy. This is an area where we may want to do some feature engineering!"
      ],
      "metadata": {
        "id": "Y0rXCZ1tj0ca"
      }
    },
    {
      "cell_type": "code",
      "source": [
        "print(pd.pivot_table(training, index = 'Survived', columns = 'Pclass', values = 'Ticket' ,aggfunc ='count'))\n",
        "print()\n",
        "print(pd.pivot_table(training, index = 'Survived', columns = 'Sex', values = 'Ticket' ,aggfunc ='count'))\n",
        "print()\n",
        "print(pd.pivot_table(training, index = 'Survived', columns = 'Embarked', values = 'Ticket' ,aggfunc ='count'))"
      ],
      "metadata": {
        "execution": {
          "iopub.status.busy": "2023-09-02T04:29:15.059415Z",
          "iopub.execute_input": "2023-09-02T04:29:15.059924Z",
          "iopub.status.idle": "2023-09-02T04:29:15.117061Z",
          "shell.execute_reply.started": "2023-09-02T04:29:15.059880Z",
          "shell.execute_reply": "2023-09-02T04:29:15.115950Z"
        },
        "trusted": true,
        "id": "hyup71xZj0ca",
        "outputId": "7033a197-5520-400c-da83-f0dae8131025"
      },
      "execution_count": null,
      "outputs": [
        {
          "name": "stdout",
          "text": "Pclass      1   2    3\nSurvived              \n0          80  97  372\n1         136  87  119\n\nSex       female  male\nSurvived              \n0             81   468\n1            233   109\n\nEmbarked   C   Q    S\nSurvived             \n0         75  47  427\n1         93  30  217\n",
          "output_type": "stream"
        }
      ]
    },
    {
      "cell_type": "code",
      "source": [
        "df_cat.Cabin\n",
        "training['cabin_multiple'] = training.Cabin.apply(lambda x: 0 if pd.isna(x) else len(x.split(' ')))\n",
        "training['cabin_multiple'].value_counts()"
      ],
      "metadata": {
        "execution": {
          "iopub.status.busy": "2023-09-02T04:29:48.077750Z",
          "iopub.execute_input": "2023-09-02T04:29:48.078515Z",
          "iopub.status.idle": "2023-09-02T04:29:48.093410Z",
          "shell.execute_reply.started": "2023-09-02T04:29:48.078471Z",
          "shell.execute_reply": "2023-09-02T04:29:48.091999Z"
        },
        "trusted": true,
        "id": "95SXCuXCj0ca",
        "outputId": "a3c7bb0f-8254-4526-c2b9-8e2a2d746ddc"
      },
      "execution_count": null,
      "outputs": [
        {
          "execution_count": 15,
          "output_type": "execute_result",
          "data": {
            "text/plain": "0    687\n1    180\n2     16\n3      6\n4      2\nName: cabin_multiple, dtype: int64"
          },
          "metadata": {}
        }
      ]
    },
    {
      "cell_type": "code",
      "source": [
        "pd.pivot_table(training, index = 'Survived', columns = 'cabin_multiple', values = 'Ticket' ,aggfunc ='count')"
      ],
      "metadata": {
        "execution": {
          "iopub.status.busy": "2023-09-02T04:29:50.463883Z",
          "iopub.execute_input": "2023-09-02T04:29:50.464293Z",
          "iopub.status.idle": "2023-09-02T04:29:50.497904Z",
          "shell.execute_reply.started": "2023-09-02T04:29:50.464257Z",
          "shell.execute_reply": "2023-09-02T04:29:50.496529Z"
        },
        "trusted": true,
        "id": "86Q5koymj0ca",
        "outputId": "6d107c4a-2f93-424c-a049-65f863d14a18"
      },
      "execution_count": null,
      "outputs": [
        {
          "execution_count": 16,
          "output_type": "execute_result",
          "data": {
            "text/plain": "cabin_multiple      0      1    2    3    4\nSurvived                                   \n0               481.0   58.0  7.0  3.0  NaN\n1               206.0  122.0  9.0  3.0  2.0",
            "text/html": "<div>\n<style scoped>\n    .dataframe tbody tr th:only-of-type {\n        vertical-align: middle;\n    }\n\n    .dataframe tbody tr th {\n        vertical-align: top;\n    }\n\n    .dataframe thead th {\n        text-align: right;\n    }\n</style>\n<table border=\"1\" class=\"dataframe\">\n  <thead>\n    <tr style=\"text-align: right;\">\n      <th>cabin_multiple</th>\n      <th>0</th>\n      <th>1</th>\n      <th>2</th>\n      <th>3</th>\n      <th>4</th>\n    </tr>\n    <tr>\n      <th>Survived</th>\n      <th></th>\n      <th></th>\n      <th></th>\n      <th></th>\n      <th></th>\n    </tr>\n  </thead>\n  <tbody>\n    <tr>\n      <th>0</th>\n      <td>481.0</td>\n      <td>58.0</td>\n      <td>7.0</td>\n      <td>3.0</td>\n      <td>NaN</td>\n    </tr>\n    <tr>\n      <th>1</th>\n      <td>206.0</td>\n      <td>122.0</td>\n      <td>9.0</td>\n      <td>3.0</td>\n      <td>2.0</td>\n    </tr>\n  </tbody>\n</table>\n</div>"
          },
          "metadata": {}
        }
      ]
    },
    {
      "cell_type": "code",
      "source": [
        "training['cabin_adv'] = training.Cabin.apply(lambda x: str(x)[0])\n"
      ],
      "metadata": {
        "execution": {
          "iopub.status.busy": "2023-09-02T04:30:07.265468Z",
          "iopub.execute_input": "2023-09-02T04:30:07.265831Z",
          "iopub.status.idle": "2023-09-02T04:30:07.274218Z",
          "shell.execute_reply.started": "2023-09-02T04:30:07.265800Z",
          "shell.execute_reply": "2023-09-02T04:30:07.272995Z"
        },
        "trusted": true,
        "id": "OMG3Otopj0ca"
      },
      "execution_count": null,
      "outputs": []
    },
    {
      "cell_type": "code",
      "source": [
        "print(training.cabin_adv.value_counts())\n",
        "pd.pivot_table(training,index='Survived',columns='cabin_adv', values = 'Name', aggfunc='count')"
      ],
      "metadata": {
        "execution": {
          "iopub.status.busy": "2023-09-02T04:30:08.711168Z",
          "iopub.execute_input": "2023-09-02T04:30:08.711597Z",
          "iopub.status.idle": "2023-09-02T04:30:08.749340Z",
          "shell.execute_reply.started": "2023-09-02T04:30:08.711557Z",
          "shell.execute_reply": "2023-09-02T04:30:08.748355Z"
        },
        "trusted": true,
        "id": "3sJICf4Kj0ca",
        "outputId": "53fd0c70-fe47-4a1d-9f40-57db9416a262"
      },
      "execution_count": null,
      "outputs": [
        {
          "name": "stdout",
          "text": "n    687\nC     59\nB     47\nD     33\nE     32\nA     15\nF     13\nG      4\nT      1\nName: cabin_adv, dtype: int64\n",
          "output_type": "stream"
        },
        {
          "execution_count": 18,
          "output_type": "execute_result",
          "data": {
            "text/plain": "cabin_adv    A     B     C     D     E    F    G    T      n\nSurvived                                                    \n0          8.0  12.0  24.0   8.0   8.0  5.0  2.0  1.0  481.0\n1          7.0  35.0  35.0  25.0  24.0  8.0  2.0  NaN  206.0",
            "text/html": "<div>\n<style scoped>\n    .dataframe tbody tr th:only-of-type {\n        vertical-align: middle;\n    }\n\n    .dataframe tbody tr th {\n        vertical-align: top;\n    }\n\n    .dataframe thead th {\n        text-align: right;\n    }\n</style>\n<table border=\"1\" class=\"dataframe\">\n  <thead>\n    <tr style=\"text-align: right;\">\n      <th>cabin_adv</th>\n      <th>A</th>\n      <th>B</th>\n      <th>C</th>\n      <th>D</th>\n      <th>E</th>\n      <th>F</th>\n      <th>G</th>\n      <th>T</th>\n      <th>n</th>\n    </tr>\n    <tr>\n      <th>Survived</th>\n      <th></th>\n      <th></th>\n      <th></th>\n      <th></th>\n      <th></th>\n      <th></th>\n      <th></th>\n      <th></th>\n      <th></th>\n    </tr>\n  </thead>\n  <tbody>\n    <tr>\n      <th>0</th>\n      <td>8.0</td>\n      <td>12.0</td>\n      <td>24.0</td>\n      <td>8.0</td>\n      <td>8.0</td>\n      <td>5.0</td>\n      <td>2.0</td>\n      <td>1.0</td>\n      <td>481.0</td>\n    </tr>\n    <tr>\n      <th>1</th>\n      <td>7.0</td>\n      <td>35.0</td>\n      <td>35.0</td>\n      <td>25.0</td>\n      <td>24.0</td>\n      <td>8.0</td>\n      <td>2.0</td>\n      <td>NaN</td>\n      <td>206.0</td>\n    </tr>\n  </tbody>\n</table>\n</div>"
          },
          "metadata": {}
        }
      ]
    },
    {
      "cell_type": "code",
      "source": [
        "training['numeric_ticket'] = training.Ticket.apply(lambda x: 1 if x.isnumeric() else 0)\n",
        "training['ticket_letters'] = training.Ticket.apply(lambda x: ''.join(x.split(' ')[:-1]).replace('.','').replace('/','').lower() if len(x.split(' ')[:-1]) >0 else 0)\n"
      ],
      "metadata": {
        "execution": {
          "iopub.status.busy": "2023-09-02T04:30:26.256713Z",
          "iopub.execute_input": "2023-09-02T04:30:26.257136Z",
          "iopub.status.idle": "2023-09-02T04:30:26.269824Z",
          "shell.execute_reply.started": "2023-09-02T04:30:26.257099Z",
          "shell.execute_reply": "2023-09-02T04:30:26.268061Z"
        },
        "trusted": true,
        "id": "camfG28kj0ca"
      },
      "execution_count": null,
      "outputs": []
    },
    {
      "cell_type": "code",
      "source": [
        "training['numeric_ticket'].value_counts()"
      ],
      "metadata": {
        "execution": {
          "iopub.status.busy": "2023-09-02T04:30:30.111417Z",
          "iopub.execute_input": "2023-09-02T04:30:30.111819Z",
          "iopub.status.idle": "2023-09-02T04:30:30.122683Z",
          "shell.execute_reply.started": "2023-09-02T04:30:30.111784Z",
          "shell.execute_reply": "2023-09-02T04:30:30.121742Z"
        },
        "trusted": true,
        "id": "7OvqqST9j0cb",
        "outputId": "e76a2a97-038a-4e19-ccf1-bee390d30e2c"
      },
      "execution_count": null,
      "outputs": [
        {
          "execution_count": 21,
          "output_type": "execute_result",
          "data": {
            "text/plain": "1    661\n0    230\nName: numeric_ticket, dtype: int64"
          },
          "metadata": {}
        }
      ]
    },
    {
      "cell_type": "code",
      "source": [
        "pd.set_option(\"max_rows\", None)\n",
        "training['ticket_letters'].value_counts()\n"
      ],
      "metadata": {
        "execution": {
          "iopub.status.busy": "2023-09-02T04:30:37.122885Z",
          "iopub.execute_input": "2023-09-02T04:30:37.123293Z",
          "iopub.status.idle": "2023-09-02T04:30:37.134024Z",
          "shell.execute_reply.started": "2023-09-02T04:30:37.123255Z",
          "shell.execute_reply": "2023-09-02T04:30:37.132669Z"
        },
        "trusted": true,
        "id": "cUxAc8Nkj0cb",
        "outputId": "fc81cb8c-7a80-4175-9552-4bbc6a596459"
      },
      "execution_count": null,
      "outputs": [
        {
          "execution_count": 22,
          "output_type": "execute_result",
          "data": {
            "text/plain": "0            665\npc            60\nca            41\na5            21\nstono2        18\nsotonoq       15\nscparis       11\nwc            10\na4             7\nsoc            6\nfcc            5\nc              5\nsopp           3\npp             3\nwep            3\nsotono2        2\nppp            2\nswpp           2\nscah           2\nsp             1\nfc             1\nsc             1\nscahbasle      1\nfa             1\nscow           1\nsca4           1\nsop            1\ncasoton        1\nas             1\nName: ticket_letters, dtype: int64"
          },
          "metadata": {}
        }
      ]
    },
    {
      "cell_type": "code",
      "source": [
        "pd.pivot_table(training,index='Survived',columns='numeric_ticket', values = 'Ticket', aggfunc='count')"
      ],
      "metadata": {
        "execution": {
          "iopub.status.busy": "2023-09-02T04:30:50.839319Z",
          "iopub.execute_input": "2023-09-02T04:30:50.839729Z",
          "iopub.status.idle": "2023-09-02T04:30:50.866515Z",
          "shell.execute_reply.started": "2023-09-02T04:30:50.839696Z",
          "shell.execute_reply": "2023-09-02T04:30:50.864714Z"
        },
        "trusted": true,
        "id": "cTe0Cygkj0cb",
        "outputId": "0ef1a138-e6d7-4b74-f60e-aa170235b293"
      },
      "execution_count": null,
      "outputs": [
        {
          "execution_count": 23,
          "output_type": "execute_result",
          "data": {
            "text/plain": "numeric_ticket    0    1\nSurvived                \n0               142  407\n1                88  254",
            "text/html": "<div>\n<style scoped>\n    .dataframe tbody tr th:only-of-type {\n        vertical-align: middle;\n    }\n\n    .dataframe tbody tr th {\n        vertical-align: top;\n    }\n\n    .dataframe thead th {\n        text-align: right;\n    }\n</style>\n<table border=\"1\" class=\"dataframe\">\n  <thead>\n    <tr style=\"text-align: right;\">\n      <th>numeric_ticket</th>\n      <th>0</th>\n      <th>1</th>\n    </tr>\n    <tr>\n      <th>Survived</th>\n      <th></th>\n      <th></th>\n    </tr>\n  </thead>\n  <tbody>\n    <tr>\n      <th>0</th>\n      <td>142</td>\n      <td>407</td>\n    </tr>\n    <tr>\n      <th>1</th>\n      <td>88</td>\n      <td>254</td>\n    </tr>\n  </tbody>\n</table>\n</div>"
          },
          "metadata": {}
        }
      ]
    },
    {
      "cell_type": "code",
      "source": [
        "pd.pivot_table(training,index='Survived',columns='ticket_letters', values = 'Ticket', aggfunc='count')"
      ],
      "metadata": {
        "execution": {
          "iopub.status.busy": "2023-09-02T04:30:59.800996Z",
          "iopub.execute_input": "2023-09-02T04:30:59.801549Z",
          "iopub.status.idle": "2023-09-02T04:30:59.850731Z",
          "shell.execute_reply.started": "2023-09-02T04:30:59.801378Z",
          "shell.execute_reply": "2023-09-02T04:30:59.849522Z"
        },
        "trusted": true,
        "id": "qSh-0kVJj0cb",
        "outputId": "3efa238c-06ce-42db-a2e7-1fa1a476e800"
      },
      "execution_count": null,
      "outputs": [
        {
          "execution_count": 24,
          "output_type": "execute_result",
          "data": {
            "text/plain": "ticket_letters      0   a4    a5   as    c    ca  casoton   fa   fc  fcc  ...  \\\nSurvived                                                                  ...   \n0               410.0  7.0  19.0  1.0  3.0  27.0      1.0  1.0  1.0  1.0  ...   \n1               255.0  NaN   2.0  NaN  2.0  14.0      NaN  NaN  NaN  4.0  ...   \n\nticket_letters  soc  sop  sopp  sotono2  sotonoq   sp  stono2  swpp   wc  wep  \nSurvived                                                                       \n0               5.0  1.0   3.0      2.0     13.0  1.0    10.0   NaN  9.0  2.0  \n1               1.0  NaN   NaN      NaN      2.0  NaN     8.0   2.0  1.0  1.0  \n\n[2 rows x 29 columns]",
            "text/html": "<div>\n<style scoped>\n    .dataframe tbody tr th:only-of-type {\n        vertical-align: middle;\n    }\n\n    .dataframe tbody tr th {\n        vertical-align: top;\n    }\n\n    .dataframe thead th {\n        text-align: right;\n    }\n</style>\n<table border=\"1\" class=\"dataframe\">\n  <thead>\n    <tr style=\"text-align: right;\">\n      <th>ticket_letters</th>\n      <th>0</th>\n      <th>a4</th>\n      <th>a5</th>\n      <th>as</th>\n      <th>c</th>\n      <th>ca</th>\n      <th>casoton</th>\n      <th>fa</th>\n      <th>fc</th>\n      <th>fcc</th>\n      <th>...</th>\n      <th>soc</th>\n      <th>sop</th>\n      <th>sopp</th>\n      <th>sotono2</th>\n      <th>sotonoq</th>\n      <th>sp</th>\n      <th>stono2</th>\n      <th>swpp</th>\n      <th>wc</th>\n      <th>wep</th>\n    </tr>\n    <tr>\n      <th>Survived</th>\n      <th></th>\n      <th></th>\n      <th></th>\n      <th></th>\n      <th></th>\n      <th></th>\n      <th></th>\n      <th></th>\n      <th></th>\n      <th></th>\n      <th></th>\n      <th></th>\n      <th></th>\n      <th></th>\n      <th></th>\n      <th></th>\n      <th></th>\n      <th></th>\n      <th></th>\n      <th></th>\n      <th></th>\n    </tr>\n  </thead>\n  <tbody>\n    <tr>\n      <th>0</th>\n      <td>410.0</td>\n      <td>7.0</td>\n      <td>19.0</td>\n      <td>1.0</td>\n      <td>3.0</td>\n      <td>27.0</td>\n      <td>1.0</td>\n      <td>1.0</td>\n      <td>1.0</td>\n      <td>1.0</td>\n      <td>...</td>\n      <td>5.0</td>\n      <td>1.0</td>\n      <td>3.0</td>\n      <td>2.0</td>\n      <td>13.0</td>\n      <td>1.0</td>\n      <td>10.0</td>\n      <td>NaN</td>\n      <td>9.0</td>\n      <td>2.0</td>\n    </tr>\n    <tr>\n      <th>1</th>\n      <td>255.0</td>\n      <td>NaN</td>\n      <td>2.0</td>\n      <td>NaN</td>\n      <td>2.0</td>\n      <td>14.0</td>\n      <td>NaN</td>\n      <td>NaN</td>\n      <td>NaN</td>\n      <td>4.0</td>\n      <td>...</td>\n      <td>1.0</td>\n      <td>NaN</td>\n      <td>NaN</td>\n      <td>NaN</td>\n      <td>2.0</td>\n      <td>NaN</td>\n      <td>8.0</td>\n      <td>2.0</td>\n      <td>1.0</td>\n      <td>1.0</td>\n    </tr>\n  </tbody>\n</table>\n<p>2 rows × 29 columns</p>\n</div>"
          },
          "metadata": {}
        }
      ]
    },
    {
      "cell_type": "code",
      "source": [
        "training.Name.head(50)\n",
        "training['name_title'] = training.Name.apply(lambda x: x.split(',')[1].split('.')[0].strip())"
      ],
      "metadata": {
        "execution": {
          "iopub.status.busy": "2023-09-02T04:31:20.336335Z",
          "iopub.execute_input": "2023-09-02T04:31:20.336731Z",
          "iopub.status.idle": "2023-09-02T04:31:20.345657Z",
          "shell.execute_reply.started": "2023-09-02T04:31:20.336700Z",
          "shell.execute_reply": "2023-09-02T04:31:20.344321Z"
        },
        "trusted": true,
        "id": "5ouhFsc6j0cb"
      },
      "execution_count": null,
      "outputs": []
    },
    {
      "cell_type": "code",
      "source": [
        "training['name_title'].value_counts()"
      ],
      "metadata": {
        "execution": {
          "iopub.status.busy": "2023-09-02T04:31:22.197507Z",
          "iopub.execute_input": "2023-09-02T04:31:22.198050Z",
          "iopub.status.idle": "2023-09-02T04:31:22.209171Z",
          "shell.execute_reply.started": "2023-09-02T04:31:22.197997Z",
          "shell.execute_reply": "2023-09-02T04:31:22.207602Z"
        },
        "trusted": true,
        "id": "X67BmRRLj0cb",
        "outputId": "4b4a135c-6c9c-4ab8-b3cf-4af74077c848"
      },
      "execution_count": null,
      "outputs": [
        {
          "execution_count": 26,
          "output_type": "execute_result",
          "data": {
            "text/plain": "Mr              517\nMiss            182\nMrs             125\nMaster           40\nDr                7\nRev               6\nMlle              2\nMajor             2\nCol               2\nDon               1\nMme               1\nthe Countess      1\nJonkheer          1\nCapt              1\nLady              1\nSir               1\nMs                1\nName: name_title, dtype: int64"
          },
          "metadata": {}
        }
      ]
    },
    {
      "cell_type": "code",
      "source": [
        "all_data['cabin_multiple'] = all_data.Cabin.apply(lambda x: 0 if pd.isna(x) else len(x.split(' ')))\n",
        "all_data['cabin_adv'] = all_data.Cabin.apply(lambda x: str(x)[0])\n",
        "all_data['numeric_ticket'] = all_data.Ticket.apply(lambda x: 1 if x.isnumeric() else 0)\n",
        "all_data['ticket_letters'] = all_data.Ticket.apply(lambda x: ''.join(x.split(' ')[:-1]).replace('.','').replace('/','').lower() if len(x.split(' ')[:-1]) >0 else 0)\n",
        "all_data['name_title'] = all_data.Name.apply(lambda x: x.split(',')[1].split('.')[0].strip())\n",
        "\n",
        "\n",
        "all_data.Age = all_data.Age.fillna(training.Age.median())\n",
        "all_data.Fare = all_data.Fare.fillna(training.Fare.median())\n",
        "all_data.dropna(subset=['Embarked'],inplace = True)\n",
        "all_data['norm_sibsp'] = np.log(all_data.SibSp+1)\n",
        "all_data['norm_sibsp'].hist()\n",
        "all_data['norm_fare'] = np.log(all_data.Fare+1)\n",
        "all_data['norm_fare'].hist()\n",
        "all_data.Pclass = all_data.Pclass.astype(str)\n",
        "all_dummies = pd.get_dummies(all_data[['Pclass','Sex','Age','SibSp','Parch','norm_fare','Embarked','cabin_adv','cabin_multiple','numeric_ticket','name_title','train_test']])\n",
        "X_train = all_dummies[all_dummies.train_test == 1].drop(['train_test'], axis =1)\n",
        "X_test = all_dummies[all_dummies.train_test == 0].drop(['train_test'], axis =1)\n",
        "\n",
        "\n",
        "y_train = all_data[all_data.train_test==1].Survived\n",
        "y_train.shape"
      ],
      "metadata": {
        "execution": {
          "iopub.status.busy": "2023-09-02T04:32:59.022583Z",
          "iopub.execute_input": "2023-09-02T04:32:59.023016Z",
          "iopub.status.idle": "2023-09-02T04:32:59.292497Z",
          "shell.execute_reply.started": "2023-09-02T04:32:59.022981Z",
          "shell.execute_reply": "2023-09-02T04:32:59.291161Z"
        },
        "trusted": true,
        "id": "kIzbemb0j0cb",
        "outputId": "5504de64-eaef-4784-8ee1-89d53f21b9c2"
      },
      "execution_count": null,
      "outputs": [
        {
          "execution_count": 27,
          "output_type": "execute_result",
          "data": {
            "text/plain": "(889,)"
          },
          "metadata": {}
        },
        {
          "output_type": "display_data",
          "data": {
            "text/plain": "<Figure size 432x288 with 1 Axes>",
            "image/png": "[encoded data removed]"
          },
          "metadata": {
            "needs_background": "light"
          }
        }
      ]
    },
    {
      "cell_type": "code",
      "source": [],
      "metadata": {
        "id": "97OwNbC9j0cg"
      },
      "execution_count": 3,
      "outputs": []
    },
    {
      "cell_type": "code",
      "source": [],
      "metadata": {
        "id": "xKXOaZQ_j0cg"
      },
      "execution_count": 3,
      "outputs": []
    },
    {
      "cell_type": "code",
      "source": [],
      "metadata": {
        "id": "L6tbbIhmj0ch"
      },
      "execution_count": null,
      "outputs": []
    },
    {
      "cell_type": "code",
      "source": [],
      "metadata": {
        "id": "vImKdKOzj0ch"
      },
      "execution_count": null,
      "outputs": []
    },
    {
      "cell_type": "code",
      "source": [],
      "metadata": {
        "id": "xSzLcMP-j0ch"
      },
      "execution_count": null,
      "outputs": []
    },
    {
      "cell_type": "code",
      "source": [],
      "metadata": {
        "id": "46qi5Lmgj0ch"
      },
      "execution_count": null,
      "outputs": []
    },
    {
      "cell_type": "code",
      "source": [],
      "metadata": {
        "id": "n-wwoG47j0ch"
      },
      "execution_count": null,
      "outputs": []
    },
    {
      "cell_type": "code",
      "source": [],
      "metadata": {
        "id": "y2OX6O6Ej0ch"
      },
      "execution_count": null,
      "outputs": []
    },
    {
      "cell_type": "code",
      "source": [],
      "metadata": {
        "id": "r4rcKX4pj0ch"
      },
      "execution_count": null,
      "outputs": []
    },
    {
      "cell_type": "code",
      "source": [],
      "metadata": {
        "id": "7xES9mZLj0ch"
      },
      "execution_count": null,
      "outputs": []
    },
    {
      "cell_type": "code",
      "source": [],
      "metadata": {
        "id": "HpmQFwYfj0ch"
      },
      "execution_count": null,
      "outputs": []
    },
    {
      "cell_type": "code",
      "source": [],
      "metadata": {
        "id": "EuABJ0brj0ch"
      },
      "execution_count": null,
      "outputs": []
    },
    {
      "cell_type": "code",
      "source": [],
      "metadata": {
        "id": "53q_-PR2j0ch"
      },
      "execution_count": null,
      "outputs": []
    },
    {
      "cell_type": "code",
      "source": [],
      "metadata": {
        "id": "pjorIdhVj0ch"
      },
      "execution_count": null,
      "outputs": []
    },
    {
      "cell_type": "code",
      "source": [],
      "metadata": {
        "id": "JFr5QVidj0ch"
      },
      "execution_count": null,
      "outputs": []
    },
    {
      "cell_type": "code",
      "source": [],
      "metadata": {
        "id": "hn-GYdn1j0ci"
      },
      "execution_count": null,
      "outputs": []
    },
    {
      "cell_type": "code",
      "source": [],
      "metadata": {
        "id": "Ux17RJawj0ci"
      },
      "execution_count": null,
      "outputs": []
    },
    {
      "cell_type": "code",
      "source": [],
      "metadata": {
        "id": "6_Z5JiPgj0ci"
      },
      "execution_count": null,
      "outputs": []
    },
    {
      "cell_type": "code",
      "source": [],
      "metadata": {
        "id": "fHsNU-fBj0ci"
      },
      "execution_count": null,
      "outputs": []
    },
    {
      "cell_type": "code",
      "source": [],
      "metadata": {
        "id": "p2Rv1WNjj0ci"
      },
      "execution_count": null,
      "outputs": []
    },
    {
      "cell_type": "code",
      "source": [],
      "metadata": {
        "id": "EDu5S1Mvj0ci"
      },
      "execution_count": null,
      "outputs": []
    }
  ]
}